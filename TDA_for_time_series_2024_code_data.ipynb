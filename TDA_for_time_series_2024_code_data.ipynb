{
  "nbformat": 4,
  "nbformat_minor": 0,
  "metadata": {
    "colab": {
      "provenance": []
    },
    "kernelspec": {
      "name": "python3",
      "display_name": "Python 3"
    },
    "language_info": {
      "name": "python"
    }
  },
  "cells": [
    {
      "cell_type": "markdown",
      "source": [
        "####**Description**: This file contains code that we ran when preparing a manuscript to submit to ACML 2024. There are different code files to generate results in our manuscript. This general code file contains other specific code files each has a particular task.  "
      ],
      "metadata": {
        "id": "uQbXYK7n1_4d"
      }
    },
    {
      "cell_type": "markdown",
      "source": [
        "#PART A: For the 1st application (applying TDA for bankruptcy prediction)\n",
        "\n",
        "##A1: Data\n",
        "\n",
        "All necessary data for running the code can be found at: https://drive.google.com/file/d/1TY4ri8badSoc3kzWda99OvTJrpdJ15GE/view?usp=drive_link"
      ],
      "metadata": {
        "id": "YdzmWmyobAEz"
      }
    },
    {
      "cell_type": "markdown",
      "source": [
        "##A2: Code"
      ],
      "metadata": {
        "id": "WDDLAdVBa94T"
      }
    },
    {
      "cell_type": "markdown",
      "source": [
        "###**Part 1**: Generate persistence landscapes (PLs) from time series of non-bankrupt companies.\n",
        "\n",
        "Code: https://colab.research.google.com/drive/1i_U7TC0gVbwgQyqSF34oivB03zM6Tftz#scrollTo=pm11Z5wcNRaY"
      ],
      "metadata": {
        "id": "AZFHLQDM3Tuh"
      }
    },
    {
      "cell_type": "markdown",
      "source": [
        "###**Part 2** (RPDG): Generate simulated persistence landscapes (PLs) by adapting RPDG algorithm\n",
        "\n",
        "Code: https://colab.research.google.com/drive/1oFhxW5I9NSkvmbmX9LHyKFYPeYDzQ1_Y#scrollTo=5d6d9d7b"
      ],
      "metadata": {
        "id": "dcu5SPBu5rzY"
      }
    },
    {
      "cell_type": "markdown",
      "source": [
        "###**Part 3** (Running average): To check if our simulated PDs are convergent after a threshold.\n",
        "\n",
        "Code: https://colab.research.google.com/drive/1GlO1hzjToTq9nFWkN5ZGs1TWB5TDXK0r#scrollTo=CmhF3ActecJd"
      ],
      "metadata": {
        "id": "ZmnSdL6g65p2"
      }
    },
    {
      "cell_type": "markdown",
      "source": [
        "###**Part 4**: Combine original + Simulated PDs.\n",
        "\n",
        "Code: https://colab.research.google.com/drive/1G-OzQkPttxVDSDUQ4ijci9BwEP-Q7ss5#scrollTo=IKtlGRJ4kMw-"
      ],
      "metadata": {
        "id": "taAT81fh7_-h"
      }
    },
    {
      "cell_type": "markdown",
      "source": [
        "###**Part 5**: Carrying classifiers\n",
        "\n",
        "####**5.1** PLs = 4646\n",
        "\n",
        "Code: https://colab.research.google.com/drive/1oYq_tkIvz1MM2Zz-l5yHFuLd9GgRh5j9\n",
        "\n",
        "####**5.2** PLs = 3531\n",
        "\n",
        "Code: https://colab.research.google.com/drive/1MaPfVHtOIFtMmctWXVtTNAL8msYPdfng\n",
        "\n",
        "####**5.3** PLs = 2863\n",
        "\n",
        "Code: https://colab.research.google.com/drive/1_dt5bMxDMYnnXbp3raRs-dfPvMkp3FX3\n",
        "\n",
        "####**5.4** PLs = 2357\n",
        "\n",
        "Code: https://colab.research.google.com/drive/1eawi-1ggA_7uwUGf0oKN6CiE8QzMHW6u#scrollTo=whMqwM1Qy68W\n",
        "\n",
        "####**5.5** PLs = 2013\n",
        "\n",
        "Code: https://colab.research.google.com/drive/15GQ_k4oDntk-FEHxJ3i-y4J6MriOag1g#scrollTo=whMqwM1Qy68W\n",
        "\n",
        "####**5.6** Carrying classifiers (using SMOTE)\n",
        "\n",
        "Code: https://colab.research.google.com/drive/1--025GHiunK144VA5ZIt0ZoIZ_NHOysd#scrollTo=jj0uNcEeucoA\n",
        "\n",
        "####**5.7** Carrying classifiers for imbalanced data (No SMOTE and No TDA)\n",
        "\n",
        "Code: https://colab.research.google.com/drive/1SRzWfH0cifjHpq8Fbv6831U0gpKFA977#scrollTo=jj0uNcEeucoA\n",
        "\n",
        "####**5.8** Imbalanced data (using TDA)\n",
        "\n",
        "Code: https://colab.research.google.com/drive/1i-tux5OR0K83ym4yQBBiDFzYQ--LPNSw#scrollTo=whMqwM1Qy68W"
      ],
      "metadata": {
        "id": "hAWP6aHa9FOO"
      }
    },
    {
      "cell_type": "markdown",
      "source": [
        "#PART B: For the 2nd application (applying TDA for stock indices pattern recognition)"
      ],
      "metadata": {
        "id": "Ayhn51D9flzz"
      }
    },
    {
      "cell_type": "markdown",
      "source": [
        "##B1: Data\n",
        "\n",
        "Link: https://drive.google.com/file/d/1zdmsFSgEmlNXwcFuuOulDH8Ti3iX17Lv/view?usp=drive_link"
      ],
      "metadata": {
        "id": "in6gxYnlfx86"
      }
    },
    {
      "cell_type": "markdown",
      "source": [
        "##B2: Code"
      ],
      "metadata": {
        "id": "DB7xOv0sfzGb"
      }
    },
    {
      "cell_type": "markdown",
      "source": [
        "###**Part 1**: Generate the persistence landscapes (PLs) of four main U.S. stock indices under no recessions.\n",
        "\n",
        "Code: https://colab.research.google.com/drive/18rH0P7ojZ4BrUo-F3w3bGvBOPKTF9IMV#scrollTo=Eqjud8FS4Ng6"
      ],
      "metadata": {
        "id": "e1_HLqzZoYSI"
      }
    },
    {
      "cell_type": "markdown",
      "source": [
        "###**Part 2**: Generate the persistence landscapes (PLs) of four main U.S. stock indices under recessions.\n",
        "\n",
        "Code: https://colab.research.google.com/drive/1D0-9JWtcAvD3wxUHI7KilzrQC_x66ZCJ#scrollTo=Eqjud8FS4Ng6"
      ],
      "metadata": {
        "id": "ahcQy7Geoz8l"
      }
    },
    {
      "cell_type": "markdown",
      "source": [
        "###**Part 3**: Generate simulated PDs\n",
        "\n",
        "Code: https://colab.research.google.com/drive/1jrgiCcU1hNGBTVFtEvqjqmoum-10sRER#scrollTo=5d6d9d7b"
      ],
      "metadata": {
        "id": "P8Nfur8EpoOJ"
      }
    },
    {
      "cell_type": "markdown",
      "source": [
        "###**Part 4** Running average to check the convergence of simulated PDs\n",
        "\n",
        "Code: https://colab.research.google.com/drive/1giGsdSecQK5GdT42V5Cin-6IE6E5URjR#scrollTo=254c8ace"
      ],
      "metadata": {
        "id": "_uWLOlEQp870"
      }
    },
    {
      "cell_type": "markdown",
      "source": [
        "###**Part 5**: Combine original + Simulated PDs\n",
        "\n",
        "Code: https://colab.research.google.com/drive/17ErcIDxoUxFMv8Jg6XKniqCqnEnTpjbM#scrollTo=IKtlGRJ4kMw-"
      ],
      "metadata": {
        "id": "Ul2nVlNGrLHv"
      }
    },
    {
      "cell_type": "markdown",
      "source": [
        "###**Part 6**: Carrying KS test\n",
        "\n",
        "Code: https://colab.research.google.com/drive/1vHJ-ma5G55sSMlSw3o4RDgy_JFQh8IXH#scrollTo=8ISWIxcUxnv7"
      ],
      "metadata": {
        "id": "nSxMGRDPrmuz"
      }
    }
  ]
}